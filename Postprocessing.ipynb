{
 "cells": [
  {
   "cell_type": "code",
   "execution_count": 12,
   "metadata": {},
   "outputs": [
    {
     "name": "stdout",
     "output_type": "stream",
     "text": [
      "[[  0.          19.0888815   17.04539562]\n",
      " [  1.          18.80680249  16.83291994]\n",
      " [  2.          19.52865208  17.59958477]\n",
      " ...\n",
      " [225.          18.20437827  16.21677175]\n",
      " [226.          18.76203194  16.75381711]\n",
      " [227.          18.42195015  16.35892884]]\n"
     ]
    }
   ],
   "source": [
    "import numpy as np\n",
    "\n",
    "bias = 187500.02235174447\n",
    "\n",
    "path = \"./best_data_right/OpenBCI-RAW-2024-03-02_15-16-08.txt\"\n",
    "\n",
    "file = open(path, mode=\"r\").readlines()\n",
    "\n",
    "data = []\n",
    "\n",
    "for line in file:\n",
    "    if \"%\" not in line:\n",
    "        results = line.rstrip().split(\", \")\n",
    "        data.append([results[0], results[3], results[6]])\n",
    "\n",
    "for d in range(1, len(data)):\n",
    "    data[d] = [float(data[d][0]), (float(data[d][1]) + bias) / 1000, (float(data[d][2]) + bias) / 1000]\n",
    "\n",
    "data = np.array(data[1::], dtype=np.float64)\\\n",
    "\n",
    "print(data)\n",
    "\n",
    "np.savetxt(\"right1.npy\", data)"
   ]
  }
 ],
 "metadata": {
  "kernelspec": {
   "display_name": "Python 3",
   "language": "python",
   "name": "python3"
  },
  "language_info": {
   "codemirror_mode": {
    "name": "ipython",
    "version": 3
   },
   "file_extension": ".py",
   "mimetype": "text/x-python",
   "name": "python",
   "nbconvert_exporter": "python",
   "pygments_lexer": "ipython3",
   "version": "3.10.11"
  }
 },
 "nbformat": 4,
 "nbformat_minor": 2
}
