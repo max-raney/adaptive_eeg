{
 "cells": [
  {
   "cell_type": "code",
   "execution_count": null,
   "metadata": {},
   "outputs": [],
   "source": [
    "from sklearn.manifold import TSNE\n",
    "import numpy as np\n",
    "import matplotlib.pyplot as plt"
   ]
  },
  {
   "cell_type": "code",
   "execution_count": null,
   "metadata": {},
   "outputs": [],
   "source": [
    "\"\"\"\n",
    "dataset = \"Place data here\"\n",
    "\n",
    "dataset = np.loadtxt(dataset)\n",
    "\"\"\"\n",
    "\n",
    "components = 2\n",
    "\n",
    "dataset = np.random.randn(1024, 2048)\n",
    "\n",
    "tsne = TSNE(n_components=components)\n",
    "tsne_result = tsne.fit_transform(dataset)"
   ]
  },
  {
   "cell_type": "code",
   "execution_count": null,
   "metadata": {},
   "outputs": [],
   "source": [
    "plt.scatter(tsne_result[:, 0], tsne_result[:, 1])\n",
    "\n",
    "plt.grid(True)\n",
    "\n",
    "plt.show()"
   ]
  }
 ],
 "metadata": {
  "language_info": {
   "name": "python"
  }
 },
 "nbformat": 4,
 "nbformat_minor": 2
}
